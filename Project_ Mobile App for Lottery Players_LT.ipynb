{
 "cells": [
  {
   "cell_type": "markdown",
   "metadata": {
    "collapsed": true
   },
   "source": [
    "\n",
    "# Developping a Mobile App for Lottery Addicts\n"
   ]
  },
  {
   "cell_type": "markdown",
   "metadata": {},
   "source": [
    "In this project we will simulate a Data Science team assignment in which we are asked to contribute to the development of a mobile app to help lottery addicts better estimate their chances of winning. \n",
    "We will build a code that enables users to answer certain questions like\n",
    "* What is the probability of winning the big prize with a single ticket?\n",
    "* What is the probability of winning the big prize if we play 40 different tickets( of any other number)?\n",
    "* What is the probability of having at least five(four, or three, or two) winning numbers on a single ticket?\n"
   ]
  },
  {
   "cell_type": "markdown",
   "metadata": {},
   "source": [
    "The [dataset](https://www.kaggle.com/datasets/datascienceai/lottery-dataset) used for this project is from the national 6/49 lottery game in Canada."
   ]
  },
  {
   "cell_type": "markdown",
   "metadata": {},
   "source": [
    "# Defining Probability Functions"
   ]
  },
  {
   "cell_type": "markdown",
   "metadata": {},
   "source": [
    "In the 6/49 lottery, six numbers are down from a set of 49 numbers that range from 1 to 49. The drawing is done without replacement."
   ]
  },
  {
   "cell_type": "code",
   "execution_count": 1,
   "metadata": {
    "collapsed": false
   },
   "outputs": [],
   "source": [
    "#def function to find factorial of a number n\n",
    "\n",
    "def factorial(n):\n",
    "    fact_result = n\n",
    "    \n",
    "    for i in range(1,n):\n",
    "        number = n - i\n",
    "        \n",
    "        fact_result*=  number\n",
    "    return fact_result\n",
    "\n",
    "        \n",
    "#def function for the number of possible unique combinations\n",
    "\n",
    "def combinations(n,k):\n",
    "    \n",
    "    n_factorial = factorial(n)\n",
    "    k_factorial = factorial(k)\n",
    "    \n",
    "    n_k_factorial = factorial(n-k)\n",
    "    \n",
    "    combi = n_factorial/(k_factorial*n_k_factorial)\n",
    "   \n",
    "    return combi\n",
    "\n"
   ]
  },
  {
   "cell_type": "code",
   "execution_count": 2,
   "metadata": {
    "collapsed": false
   },
   "outputs": [
    {
     "data": {
      "text/plain": [
       "'Your Chances of Winning the Big Prize with numbers 8 is 7.151123842018516e-06 %'"
      ]
     },
     "execution_count": 2,
     "metadata": {},
     "output_type": "execute_result"
    }
   ],
   "source": [
    "#def function for probability of winning the big prize for any ticket\n",
    "\n",
    "def one_ticket_probability(ticket_numbers):\n",
    "    \n",
    "    possible_outcomes = combinations(49,6)\n",
    "    \n",
    "    prb_one_ticket_win = 1/possible_outcomes\n",
    "    \n",
    "    perc_one_ticket_win = prb_one_ticket_win*100\n",
    "    \n",
    "    \n",
    "    return \"Your Chances of Winning the Big Prize with numbers {} is {} %\".format(ticket_numbers, perc_one_ticket_win)\n",
    "\n",
    "\n",
    "one_ticket_probability(8)"
   ]
  },
  {
   "cell_type": "code",
   "execution_count": 3,
   "metadata": {
    "collapsed": false
   },
   "outputs": [
    {
     "name": "stdout",
     "output_type": "stream",
     "text": [
      "Ticket Number 0 \n",
      " [45 48  1  4  4 40]\n",
      "Your Chances of Winning the Big Prize with numbers [45 48  1  4  4 40] is 7.151123842018516e-06 %\n",
      "Ticket Number 1 \n",
      " [38 44 13  9 10 12]\n",
      "Your Chances of Winning the Big Prize with numbers [38 44 13  9 10 12] is 7.151123842018516e-06 %\n",
      "Ticket Number 2 \n",
      " [41 16 46  9 23 44]\n",
      "Your Chances of Winning the Big Prize with numbers [41 16 46  9 23 44] is 7.151123842018516e-06 %\n",
      "Ticket Number 3 \n",
      " [43 25  4  9  1 22]\n",
      "Your Chances of Winning the Big Prize with numbers [43 25  4  9  1 22] is 7.151123842018516e-06 %\n",
      "Ticket Number 4 \n",
      " [47  6  2 41 24  9]\n",
      "Your Chances of Winning the Big Prize with numbers [47  6  2 41 24  9] is 7.151123842018516e-06 %\n",
      "Ticket Number 5 \n",
      " [36 15 48 39 17 10]\n",
      "Your Chances of Winning the Big Prize with numbers [36 15 48 39 17 10] is 7.151123842018516e-06 %\n",
      "Ticket Number 6 \n",
      " [11 10 36 21 43 46]\n",
      "Your Chances of Winning the Big Prize with numbers [11 10 36 21 43 46] is 7.151123842018516e-06 %\n",
      "Ticket Number 7 \n",
      " [48  5 26  4 20 24]\n",
      "Your Chances of Winning the Big Prize with numbers [48  5 26  4 20 24] is 7.151123842018516e-06 %\n",
      "Ticket Number 8 \n",
      " [ 4 21 42  6 27  9]\n",
      "Your Chances of Winning the Big Prize with numbers [ 4 21 42  6 27  9] is 7.151123842018516e-06 %\n",
      "Ticket Number 9 \n",
      " [29 23  2 23 41 28]\n",
      "Your Chances of Winning the Big Prize with numbers [29 23  2 23 41 28] is 7.151123842018516e-06 %\n"
     ]
    }
   ],
   "source": [
    "#test with random lottery numbers\n",
    "\n",
    "from numpy.random import seed, randint\n",
    "\n",
    "\n",
    "\n",
    "for i in range(10):\n",
    "    seed(i)\n",
    "\n",
    "    random_number = randint(low= 1,high= 49, size = 6)\n",
    " \n",
    "    print(\"Ticket Number {}\".format(i), \"\\n\", random_number)\n",
    "    \n",
    "    print(one_ticket_probability(random_number))\n",
    "    \n"
   ]
  },
  {
   "cell_type": "markdown",
   "metadata": {},
   "source": [
    "# Historical Data Check for 6/49 Canada Lottery "
   ]
  },
  {
   "cell_type": "markdown",
   "metadata": {},
   "source": [
    "To enable users to compare their ticket against historical winning lottery numbers, we will use this [dataset](https://www.kaggle.com/datasets/datascienceai/lottery-dataset)"
   ]
  },
  {
   "cell_type": "markdown",
   "metadata": {},
   "source": [
    "## Data Overview\n"
   ]
  },
  {
   "cell_type": "code",
   "execution_count": 4,
   "metadata": {
    "collapsed": false
   },
   "outputs": [
    {
     "name": "stdout",
     "output_type": "stream",
     "text": [
      "<class 'pandas.core.frame.DataFrame'>\n",
      "RangeIndex: 3665 entries, 0 to 3664\n",
      "Data columns (total 11 columns):\n",
      "PRODUCT            3665 non-null int64\n",
      "DRAW NUMBER        3665 non-null int64\n",
      "SEQUENCE NUMBER    3665 non-null int64\n",
      "DRAW DATE          3665 non-null object\n",
      "NUMBER DRAWN 1     3665 non-null int64\n",
      "NUMBER DRAWN 2     3665 non-null int64\n",
      "NUMBER DRAWN 3     3665 non-null int64\n",
      "NUMBER DRAWN 4     3665 non-null int64\n",
      "NUMBER DRAWN 5     3665 non-null int64\n",
      "NUMBER DRAWN 6     3665 non-null int64\n",
      "BONUS NUMBER       3665 non-null int64\n",
      "dtypes: int64(10), object(1)\n",
      "memory usage: 315.0+ KB\n"
     ]
    }
   ],
   "source": [
    "import pandas as pd\n",
    "\n",
    "lottery_649 = pd.read_csv(\"649.csv\")\n",
    "\n",
    "lottery_649.info()"
   ]
  },
  {
   "cell_type": "code",
   "execution_count": 5,
   "metadata": {
    "collapsed": false
   },
   "outputs": [
    {
     "data": {
      "text/html": [
       "<div>\n",
       "<style scoped>\n",
       "    .dataframe tbody tr th:only-of-type {\n",
       "        vertical-align: middle;\n",
       "    }\n",
       "\n",
       "    .dataframe tbody tr th {\n",
       "        vertical-align: top;\n",
       "    }\n",
       "\n",
       "    .dataframe thead th {\n",
       "        text-align: right;\n",
       "    }\n",
       "</style>\n",
       "<table border=\"1\" class=\"dataframe\">\n",
       "  <thead>\n",
       "    <tr style=\"text-align: right;\">\n",
       "      <th></th>\n",
       "      <th>PRODUCT</th>\n",
       "      <th>DRAW NUMBER</th>\n",
       "      <th>SEQUENCE NUMBER</th>\n",
       "      <th>DRAW DATE</th>\n",
       "      <th>NUMBER DRAWN 1</th>\n",
       "      <th>NUMBER DRAWN 2</th>\n",
       "      <th>NUMBER DRAWN 3</th>\n",
       "      <th>NUMBER DRAWN 4</th>\n",
       "      <th>NUMBER DRAWN 5</th>\n",
       "      <th>NUMBER DRAWN 6</th>\n",
       "      <th>BONUS NUMBER</th>\n",
       "    </tr>\n",
       "  </thead>\n",
       "  <tbody>\n",
       "    <tr>\n",
       "      <th>0</th>\n",
       "      <td>649</td>\n",
       "      <td>1</td>\n",
       "      <td>0</td>\n",
       "      <td>6/12/1982</td>\n",
       "      <td>3</td>\n",
       "      <td>11</td>\n",
       "      <td>12</td>\n",
       "      <td>14</td>\n",
       "      <td>41</td>\n",
       "      <td>43</td>\n",
       "      <td>13</td>\n",
       "    </tr>\n",
       "    <tr>\n",
       "      <th>1</th>\n",
       "      <td>649</td>\n",
       "      <td>2</td>\n",
       "      <td>0</td>\n",
       "      <td>6/19/1982</td>\n",
       "      <td>8</td>\n",
       "      <td>33</td>\n",
       "      <td>36</td>\n",
       "      <td>37</td>\n",
       "      <td>39</td>\n",
       "      <td>41</td>\n",
       "      <td>9</td>\n",
       "    </tr>\n",
       "    <tr>\n",
       "      <th>2</th>\n",
       "      <td>649</td>\n",
       "      <td>3</td>\n",
       "      <td>0</td>\n",
       "      <td>6/26/1982</td>\n",
       "      <td>1</td>\n",
       "      <td>6</td>\n",
       "      <td>23</td>\n",
       "      <td>24</td>\n",
       "      <td>27</td>\n",
       "      <td>39</td>\n",
       "      <td>34</td>\n",
       "    </tr>\n",
       "    <tr>\n",
       "      <th>3</th>\n",
       "      <td>649</td>\n",
       "      <td>4</td>\n",
       "      <td>0</td>\n",
       "      <td>7/3/1982</td>\n",
       "      <td>3</td>\n",
       "      <td>9</td>\n",
       "      <td>10</td>\n",
       "      <td>13</td>\n",
       "      <td>20</td>\n",
       "      <td>43</td>\n",
       "      <td>34</td>\n",
       "    </tr>\n",
       "    <tr>\n",
       "      <th>4</th>\n",
       "      <td>649</td>\n",
       "      <td>5</td>\n",
       "      <td>0</td>\n",
       "      <td>7/10/1982</td>\n",
       "      <td>5</td>\n",
       "      <td>14</td>\n",
       "      <td>21</td>\n",
       "      <td>31</td>\n",
       "      <td>34</td>\n",
       "      <td>47</td>\n",
       "      <td>45</td>\n",
       "    </tr>\n",
       "  </tbody>\n",
       "</table>\n",
       "</div>"
      ],
      "text/plain": [
       "   PRODUCT  DRAW NUMBER  SEQUENCE NUMBER  DRAW DATE  NUMBER DRAWN 1  \\\n",
       "0      649            1                0  6/12/1982               3   \n",
       "1      649            2                0  6/19/1982               8   \n",
       "2      649            3                0  6/26/1982               1   \n",
       "3      649            4                0   7/3/1982               3   \n",
       "4      649            5                0  7/10/1982               5   \n",
       "\n",
       "   NUMBER DRAWN 2  NUMBER DRAWN 3  NUMBER DRAWN 4  NUMBER DRAWN 5  \\\n",
       "0              11              12              14              41   \n",
       "1              33              36              37              39   \n",
       "2               6              23              24              27   \n",
       "3               9              10              13              20   \n",
       "4              14              21              31              34   \n",
       "\n",
       "   NUMBER DRAWN 6  BONUS NUMBER  \n",
       "0              43            13  \n",
       "1              41             9  \n",
       "2              39            34  \n",
       "3              43            34  \n",
       "4              47            45  "
      ]
     },
     "execution_count": 5,
     "metadata": {},
     "output_type": "execute_result"
    }
   ],
   "source": [
    "lottery_649.head()"
   ]
  },
  {
   "cell_type": "code",
   "execution_count": 6,
   "metadata": {
    "collapsed": false
   },
   "outputs": [
    {
     "data": {
      "text/plain": [
       "0    {3, 41, 11, 12, 43, 14}\n",
       "1    {33, 36, 37, 39, 8, 41}\n",
       "2     {1, 6, 39, 23, 24, 27}\n",
       "3     {3, 9, 10, 43, 13, 20}\n",
       "4    {34, 5, 14, 47, 21, 31}\n",
       "dtype: object"
      ]
     },
     "execution_count": 6,
     "metadata": {},
     "output_type": "execute_result"
    }
   ],
   "source": [
    "#def function to extract all winning six numbers from dataframe\n",
    "\n",
    "def extract_numbers(row):\n",
    "    \n",
    "    numbers = []\n",
    "    \n",
    "    for i in row:\n",
    "        \n",
    "        numbers.append(i)\n",
    "        \n",
    "    reduced_numbers = numbers[4:10]\n",
    "    \n",
    "    numbers_set = set(reduced_numbers)\n",
    "    \n",
    "    return numbers_set\n",
    "        \n",
    "winning_numbers = lottery_649.apply(extract_numbers, axis = 1)\n",
    "\n",
    "winning_numbers.head()\n"
   ]
  },
  {
   "cell_type": "code",
   "execution_count": 7,
   "metadata": {
    "collapsed": true
   },
   "outputs": [],
   "source": [
    "#def function to check historical occurence of any lottery numbers\n",
    "\n",
    "def check_historical_occurence(ticket_numbers_list, winning_sets = winning_numbers):\n",
    "    ticket_numbers_set = set(ticket_numbers_list)\n",
    "    \n",
    "    bool_check = ticket_numbers_set == winning_numbers\n",
    "    \n",
    "    match_count = bool_check.sum()\n",
    "    \n",
    " \n",
    "   \n",
    "    possible_outcomes = combinations(49,6)\n",
    "    \n",
    "    if match_count == 0:\n",
    "        prb_winning = 1/possible_outcomes\n",
    "    else:\n",
    "        prb_winning = match_count/possible_outcomes\n",
    "    \n",
    "    perc_winning = prb_winning*100\n",
    "    \n",
    "    text= \"Your current lottery numbers combinations have won the big prize {} times in past drawings\".format(match_count)\n",
    "    \n",
    "    text_2 = \"Your Chances of Winning the Big Prize with numbers {} are {} %\".format(ticket_numbers_set, perc_winning)\n",
    "    \n",
    "    return text, text_2"
   ]
  },
  {
   "cell_type": "code",
   "execution_count": 8,
   "metadata": {
    "collapsed": false
   },
   "outputs": [
    {
     "name": "stdout",
     "output_type": "stream",
     "text": [
      "Ticket Number 0 \n",
      " [45 48  1  4  4 40]\n",
      "('Your current lottery numbers combinations have won the big prize 0 times in past drawings', 'Your Chances of Winning the Big Prize with numbers {48, 1, 40, 4, 45} are 7.151123842018516e-06 %')\n",
      "Ticket Number 1 \n",
      " [38 44 13  9 10 12]\n",
      "('Your current lottery numbers combinations have won the big prize 0 times in past drawings', 'Your Chances of Winning the Big Prize with numbers {38, 9, 10, 44, 13, 12} are 7.151123842018516e-06 %')\n",
      "Ticket Number 2 \n",
      " [41 16 46  9 23 44]\n",
      "('Your current lottery numbers combinations have won the big prize 0 times in past drawings', 'Your Chances of Winning the Big Prize with numbers {41, 9, 44, 46, 16, 23} are 7.151123842018516e-06 %')\n",
      "Ticket Number 3 \n",
      " [43 25  4  9  1 22]\n",
      "('Your current lottery numbers combinations have won the big prize 0 times in past drawings', 'Your Chances of Winning the Big Prize with numbers {1, 4, 9, 43, 22, 25} are 7.151123842018516e-06 %')\n",
      "Ticket Number 4 \n",
      " [47  6  2 41 24  9]\n",
      "('Your current lottery numbers combinations have won the big prize 0 times in past drawings', 'Your Chances of Winning the Big Prize with numbers {2, 6, 41, 9, 47, 24} are 7.151123842018516e-06 %')\n"
     ]
    }
   ],
   "source": [
    "#test check_historical_occurence function with random lottery numbers\n",
    "\n",
    "from numpy.random import seed, randint\n",
    "\n",
    "\n",
    "\n",
    "for i in range(5):\n",
    "    seed(i)\n",
    "\n",
    "    random_number = randint(low= 1,high= 49, size = 6)\n",
    " \n",
    "    print(\"Ticket Number {}\".format(i), \"\\n\", random_number)\n",
    "    \n",
    "    print(check_historical_occurence(ticket_numbers_list=random_number))"
   ]
  },
  {
   "cell_type": "code",
   "execution_count": 9,
   "metadata": {
    "collapsed": false
   },
   "outputs": [
    {
     "name": "stdout",
     "output_type": "stream",
     "text": [
      "('Your current lottery numbers combinations have won the big prize 1 times in past drawings', 'Your Chances of Winning the Big Prize with numbers {34, 5, 14, 47, 21, 31} are 7.151123842018516e-06 %')\n"
     ]
    }
   ],
   "source": [
    "#test a winning number\n",
    "print(check_historical_occurence(ticket_numbers_list=[34, 5, 14, 47, 21, 31]))"
   ]
  },
  {
   "cell_type": "markdown",
   "metadata": {},
   "source": [
    "In the previous step, we provided the probability of winning the big prize for any combination of lottery numbers, if the ticket numbers combinations input by the user had previously won a big prize, we use that historica data divided by the number of possible outcomes to determine the probability."
   ]
  },
  {
   "cell_type": "markdown",
   "metadata": {},
   "source": [
    "## Multi-ticket Probability "
   ]
  },
  {
   "cell_type": "code",
   "execution_count": 10,
   "metadata": {
    "collapsed": true
   },
   "outputs": [],
   "source": [
    "#def function for multi-ticket probability \n",
    "\n",
    "def multi_ticket_probability(tickets_count):\n",
    "    possible_outcomes = combinations(49, 6)\n",
    "    \n",
    "    successful_outcomes = tickets_count\n",
    "    \n",
    "    prb_winning = successful_outcomes/possible_outcomes\n",
    "    \n",
    "    perc_winning = prb_winning*100 \n",
    "    \n",
    "    text = \"Your chances of winning with {} tickets is {} %\".format(tickets_count, perc_winning)\n",
    "    \n",
    "    return text"
   ]
  },
  {
   "cell_type": "code",
   "execution_count": 11,
   "metadata": {
    "collapsed": false
   },
   "outputs": [
    {
     "name": "stdout",
     "output_type": "stream",
     "text": [
      "Your chances of winning with 1 tickets is 7.151123842018516e-06 % \n",
      "\n",
      "Your chances of winning with 10 tickets is 7.151123842018517e-05 % \n",
      "\n",
      "Your chances of winning with 100 tickets is 0.0007151123842018516 % \n",
      "\n",
      "Your chances of winning with 10000 tickets is 0.07151123842018516 % \n",
      "\n",
      "Your chances of winning with 1000000 tickets is 7.151123842018517 % \n",
      "\n",
      "Your chances of winning with 6991908 tickets is 50.0 % \n",
      "\n",
      "Your chances of winning with 13983816 tickets is 100.0 % \n",
      "\n"
     ]
    }
   ],
   "source": [
    "#test multi_ticket_probability() function\n",
    "\n",
    "for i in [1, 10, 100, 10000, 1000000, 6991908, 13983816]:\n",
    "    \n",
    "    result = multi_ticket_probability(i)\n",
    "    \n",
    "    print(result, \"\\n\")"
   ]
  },
  {
   "cell_type": "markdown",
   "metadata": {},
   "source": [
    "The test code code above demonstrates that the higher the number of tickets a person purchases, the greater their chances of winning. As expected, if a user purchases 13,983,816 tickets, which the maximum number of different tickets, the chance of winning the big prize is 100%."
   ]
  },
  {
   "cell_type": "markdown",
   "metadata": {},
   "source": [
    "## Less Winning Numbers - Function"
   ]
  },
  {
   "cell_type": "markdown",
   "metadata": {},
   "source": [
    "In this step we calculate the probability of wining the big prize if the player's ticket matches two, three, four or five of the six numbers drawn."
   ]
  },
  {
   "cell_type": "code",
   "execution_count": 12,
   "metadata": {
    "collapsed": true
   },
   "outputs": [],
   "source": [
    "\n",
    "def probability_less_6(number):\n",
    "    \n",
    "    if number >= 2 or number <=5:\n",
    "        \n",
    "        combinations_int_6 = combinations(6,number) #total number of int combinations out of 6 numbers\n",
    "    \n",
    "        total_success_outcomes = combinations_int_6*43\n",
    "    \n",
    "        prb_int_winning_numbers = total_success_outcomes/combinations(49,6)\n",
    "        \n",
    "        perc_winning_numbers = prb_int_winning_numbers*100\n",
    "        \n",
    "        text = \"Your chances of having {} out of 6 winning numbers are {}\".format(number, perc_winning_numbers)\n",
    "        \n",
    "        return text\n",
    "    else:\n",
    "        return \"Please input a number between 2 and 5\"\n",
    "    \n",
    "     "
   ]
  },
  {
   "cell_type": "code",
   "execution_count": 13,
   "metadata": {
    "collapsed": false
   },
   "outputs": [
    {
     "name": "stdout",
     "output_type": "stream",
     "text": [
      "Your chances of having 2 out of 6 winning numbers are 0.004612474878101943\n",
      "Your chances of having 3 out of 6 winning numbers are 0.006149966504135924\n",
      "Your chances of having 4 out of 6 winning numbers are 0.004612474878101943\n",
      "Your chances of having 5 out of 6 winning numbers are 0.0018449899512407771\n"
     ]
    }
   ],
   "source": [
    "#test function\n",
    "\n",
    "for i in range(2,6):\n",
    "    \n",
    "    print(probability_less_6(i))"
   ]
  },
  {
   "cell_type": "code",
   "execution_count": null,
   "metadata": {
    "collapsed": true
   },
   "outputs": [],
   "source": []
  }
 ],
 "metadata": {
  "kernelspec": {
   "display_name": "Python 3",
   "language": "python",
   "name": "python3"
  },
  "language_info": {
   "codemirror_mode": {
    "name": "ipython",
    "version": 3
   },
   "file_extension": ".py",
   "mimetype": "text/x-python",
   "name": "python",
   "nbconvert_exporter": "python",
   "pygments_lexer": "ipython3",
   "version": "3.4.3"
  }
 },
 "nbformat": 4,
 "nbformat_minor": 2
}
